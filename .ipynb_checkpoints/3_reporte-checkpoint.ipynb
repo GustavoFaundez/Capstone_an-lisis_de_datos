{
 "cells": [
  {
   "cell_type": "markdown",
   "id": "523034a0",
   "metadata": {},
   "source": [
    "# Capstone Análisis de datos\n",
    "\n",
    "Integrantes:\n",
    "- Gustavo Faúndez Garay\n",
    "- Esteban Holtheuer Rojas\n"
   ]
  },
  {
   "cell_type": "markdown",
   "id": "b8f8c6cd",
   "metadata": {},
   "source": [
    "\n",
    "### El tema a analizar y el problema específico que se abordará: \n",
    "\n",
    "Información de Airbnb en Santiago en un año y en cuanto valorizar el precio alojamiento. Al explorar la información realizamos cambios en la selección de variables.\n",
    "\n",
    "Información de Airbnb en la ciudad de Santiago, son tres archivos con la siguiente información:\n",
    "\n",
    "- Calendar.csv:  Información de precios por tipo de alojamiento en fechas en un año en Santiago de Chile.\n",
    "- Listings.csv: informción de tipo de propiedad, tipo de habitaciones, cantidad de camas, cantidad de habitaciones, puntaje entregado por los que se han hospedado, lista de amenidades, comuna, etc.\n",
    "\n"
   ]
  },
  {
   "cell_type": "markdown",
   "id": "5d93c872",
   "metadata": {},
   "source": [
    "### Unidad de observación de cada dataset:\n",
    "\n",
    "A continuación se explicará las columnas que fueron utilizadas.\n",
    "\n",
    "Calendar.csv:\n",
    "- listing_id: identificador de la propiedad.\n",
    "- price: Precio de la propiedad dado una fecha.\n",
    "\n",
    "Listings.csv:\n",
    "- id: Identificador de la propiedad.\n",
    "- property_type_ Tipo de propiedad.\n",
    "- room_type: Tipo de habitación.\n",
    "- bedrooms: Cantidad de habitaciones.\n",
    "- beds: Cantidad de camas.\n",
    "- amenities: Amenidades, por ejemplo cuenta con agua caliente, café, desayuno, etc.\n",
    "- review_scores_rating: Puntaje de critica del inmueble.\n",
    "\n"
   ]
  },
  {
   "cell_type": "markdown",
   "id": "767359cb",
   "metadata": {},
   "source": [
    "### La variable que se quiere explicar/predecir/modelar: Queremos predecir el precio del alojamiento\n",
    "\n",
    "Al realizar el análisis exploratorio de los datos buscamos las variables que podrían ser más relevantes para determinar cual podría ser el precio del arriendo del airbnb.\n",
    "\n",
    "Las variables que elegimos son las que enumeramos en la sección anterior, para simplificar el cálculo del precio de cada inmueble se utilizó el precio promedio de un año de información. Y se eligieron las variables que con el análisis exploratorio nos podrían dar luces de lo que podría indicar un precio mayor.\n"
   ]
  },
  {
   "cell_type": "markdown",
   "id": "71d311c7",
   "metadata": {},
   "source": [
    "### Limpieza de datos:\n",
    "\n",
    "Para la limpieza de datos tomamos del analisis exploratorio cuales eran las columnas que nos podrían interesar para determinar el precio, por ejemplo en una comienzo quisimos utilizar la información de la comuna pero no lo pudimos utilizar porque el dataset no tenía la cantidad suficiente para el modelo.\n",
    "\n",
    "Rellenamos las columnas con 0 para las columnas de bedrooms, beds y review_scores_rating, para continuación sacar del análisis los que tuviesen esos campos en 0 (porque eran datos nulos).  "
   ]
  },
  {
   "attachments": {
    "Top_5_de_Tipo_de_propiedad_vs_cantidad.png": {
     "image/png": "[encoded data removed]"
    }
   },
   "cell_type": "markdown",
   "id": "ad9919c7",
   "metadata": {},
   "source": [
    "Se filtró por las primeras 5 categorias de tipo de propiedad por un tema de frecuencia, a continuación los tipo de propiedad elegidos.\n",
    "\n",
    "![Top_5_de_Tipo_de_propiedad_vs_cantidad.png](attachment:Top_5_de_Tipo_de_propiedad_vs_cantidad.png)"
   ]
  },
  {
   "attachments": {},
   "cell_type": "markdown",
   "id": "2f096bd0",
   "metadata": {},
   "source": [
    "Dentro de la amenidades se graficó las palabras para ver cuales son las que tienen mayor peso.\n",
    "\n",
    "![Word_cloud.png](./output/Word_cloud.png)\n"
   ]
  },
  {
   "cell_type": "markdown",
   "id": "51bdbd3f",
   "metadata": {},
   "source": [
    "Dado esto se llego a un top 10 de palabras más utilizadas en las amenidades, las cuales son las siguientes:\n",
    "\n",
    "- allowed\t\n",
    "- dryer\t\n",
    "- essentials\t\n",
    "- hot\t\n",
    "- kitchen\t\n",
    "- long\t\n",
    "- parking\t\n",
    "- term\t\n",
    "- tv\t\n",
    "- wifi"
   ]
  },
  {
   "cell_type": "markdown",
   "id": "3343f13b",
   "metadata": {},
   "source": [
    "A continuación se cambio las variables categóricas property_type y room_type fueron reemplazadas por campos dummies por cada una de las categorías.\n",
    "\n",
    "Lo que finalmente dio la variable dependiente price (precio) y las siguientes variables indepedientes:\n",
    "\n",
    "- bedrooms\t\n",
    "- beds\t\n",
    "- review_scores_rating\t\n",
    "- allowed\t\n",
    "- dryer\t\n",
    "- essentials\t\n",
    "- hot\t\n",
    "- kitchen\t\n",
    "- long\n",
    "- parking\n",
    "- term\t\n",
    "- tv\t\n",
    "- wifi\t\n",
    "- room_type_entire_home_apt\t\n",
    "- room_type_private_room\t\n",
    "- property_type_Entire_condominium_condo\t\n",
    "- property_type_Entire_loft\t\n",
    "- property_type_Entire_rental_unit\t\n",
    "- property_type_Private_room_in_rental_unit\t\n",
    "- property_type_Private_room_in_residential_home\n",
    "\n",
    "Estas variables fueron utilizadas en la construcción de un modelo de regresión lineal multivariado."
   ]
  },
  {
   "attachments": {
    "Resultados_Modelo1.png": {
     "image/png": "[encoded data removed]"
    }
   },
   "cell_type": "markdown",
   "id": "02f19fd5",
   "metadata": {},
   "source": [
    "# Modelo Regresión lineal\n",
    "\n",
    "A continuación el resultado de la regresión lineal:\n",
    "\n",
    "![Resultados_Modelo1.png](attachment:Resultados_Modelo1.png)\n",
    "\n",
    "Con las variables del modelo como predictores del precio tiene un R^2 que no es alto 0.451, es capaz de explicar el 45% de la variabilidad observada en el precio. El p-value del modelo es signigicativo (1.57e-105) por lo que se puede aceptar que el modelo es mejor que lo esperado es por azar, al menos uno de los coeficientes parciales de regresión es distinto de 0 como se puede ver a continuación."
   ]
  },
  {
   "attachments": {},
   "cell_type": "markdown",
   "id": "f18770d4",
   "metadata": {},
   "source": [
    "\n",
    "![image info](./output/Coeficientes_Modelo_v2.png)\n",
    "\n"
   ]
  },
  {
   "cell_type": "markdown",
   "id": "44d32fde",
   "metadata": {},
   "source": [
    "Ambos test muestran claras evidencias para rechazar la hipótesis de que los datos se distribuyen de forma normal (p-value << 0.01).\n",
    "\n",
    "\n",
    "Normalidad de los residuos Shapiro-Wilk test:\n",
    "- statistic=0.7353718280792236 \n",
    "- p-value = 8.642128425945988e-36\n",
    "\n",
    "Normalidad de los residuos D'Agostino's K-squared test:\n",
    "- Estadítico= 552.1265538706649, \n",
    "- p-value = 1.2800949104260676e-120"
   ]
  },
  {
   "cell_type": "code",
   "execution_count": 4,
   "id": "87f9ba7a",
   "metadata": {},
   "outputs": [
    {
     "name": "stderr",
     "output_type": "stream",
     "text": [
      "\"[Diagnosticos_residuos]\" no se reconoce como un comando interno o externo,\n",
      "programa o archivo por lotes ejecutable.\n"
     ]
    }
   ],
   "source": [
    "![Diagnosticos_residuos](./output/Diagnosticos_residuos.png)"
   ]
  }
 ],
 "metadata": {
  "kernelspec": {
   "display_name": "Python 3 (ipykernel)",
   "language": "python",
   "name": "python3"
  },
  "language_info": {
   "codemirror_mode": {
    "name": "ipython",
    "version": 3
   },
   "file_extension": ".py",
   "mimetype": "text/x-python",
   "name": "python",
   "nbconvert_exporter": "python",
   "pygments_lexer": "ipython3",
   "version": "3.7.3"
  }
 },
 "nbformat": 4,
 "nbformat_minor": 5
}
